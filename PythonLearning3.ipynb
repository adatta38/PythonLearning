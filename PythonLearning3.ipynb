{
  "nbformat": 4,
  "nbformat_minor": 0,
  "metadata": {
    "colab": {
      "name": "PythonLearning3.ipynb",
      "provenance": [],
      "collapsed_sections": [],
      "authorship_tag": "ABX9TyOlKGxuFdwDb52mXiFRsV1G",
      "include_colab_link": true
    },
    "kernelspec": {
      "name": "python3",
      "display_name": "Python 3"
    }
  },
  "cells": [
    {
      "cell_type": "markdown",
      "metadata": {
        "id": "view-in-github",
        "colab_type": "text"
      },
      "source": [
        "<a href=\"https://colab.research.google.com/github/adatta38/PythonLearning/blob/master/PythonLearning3.ipynb\" target=\"_parent\"><img src=\"https://colab.research.google.com/assets/colab-badge.svg\" alt=\"Open In Colab\"/></a>"
      ]
    },
    {
      "cell_type": "code",
      "metadata": {
        "id": "CzWUvc5DixY8",
        "colab_type": "code",
        "outputId": "a4f80b8b-cfa7-49e8-b4b4-84ce36737cc7",
        "colab": {
          "base_uri": "https://localhost:8080/",
          "height": 51
        }
      },
      "source": [
        "a=10\n",
        "b=20.5\n",
        "print(type(a))\n",
        "type(b)"
      ],
      "execution_count": 0,
      "outputs": [
        {
          "output_type": "stream",
          "text": [
            "<class 'int'>\n"
          ],
          "name": "stdout"
        },
        {
          "output_type": "execute_result",
          "data": {
            "text/plain": [
              "float"
            ]
          },
          "metadata": {
            "tags": []
          },
          "execution_count": 12
        }
      ]
    },
    {
      "cell_type": "code",
      "metadata": {
        "id": "OmCcUEoNsAf0",
        "colab_type": "code",
        "outputId": "b268e767-a262-4924-df73-60751aabc75b",
        "colab": {
          "base_uri": "https://localhost:8080/",
          "height": 357
        }
      },
      "source": [
        "class Student:\n",
        "  '''This is a Student Test class/blueprint'''\n",
        "\n",
        "  def __init__(self, name, age, marks):\n",
        "    self.name = name\n",
        "    self.age = age\n",
        "    self.marks = marks\n",
        "    \n",
        "  def talk(self):\n",
        "    print('Hello I am: ',self.name)\n",
        "    print('My age is: ',self.age)\n",
        "    print('My marks are: ',self.marks)\n",
        "    print(id(self))\n",
        "\n",
        "  \n",
        "s1 = Student('Abhishek', 41, 90)\n",
        "print(id(s1))\n",
        "print(s1.name)\n",
        "print(s1.age)\n",
        "print(s1.marks)\n",
        "s1.talk()\n",
        "  \n",
        "print(Student.__doc__)\n",
        "print('\\n')\n",
        "\n",
        "s2 = Student('Samik', 10, 95)\n",
        "print(id(s2))\n",
        "print(s2.name)\n",
        "print(s2.age)\n",
        "print(s2.marks)\n",
        "s2.talk()\n",
        "\n",
        "print(Student.__doc__)"
      ],
      "execution_count": 0,
      "outputs": [
        {
          "output_type": "stream",
          "text": [
            "140505242635064\n",
            "Abhishek\n",
            "41\n",
            "90\n",
            "Hello I am:  Abhishek\n",
            "My age is:  41\n",
            "My marks are:  90\n",
            "140505242635064\n",
            "This is a Student Test class/blueprint\n",
            "\n",
            "\n",
            "140505242634616\n",
            "Samik\n",
            "10\n",
            "95\n",
            "Hello I am:  Samik\n",
            "My age is:  10\n",
            "My marks are:  95\n",
            "140505242634616\n",
            "This is a Student Test class/blueprint\n"
          ],
          "name": "stdout"
        }
      ]
    }
  ]
}