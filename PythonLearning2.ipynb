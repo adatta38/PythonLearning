{
  "nbformat": 4,
  "nbformat_minor": 0,
  "metadata": {
    "colab": {
      "name": "PythonLearning2.ipynb",
      "version": "0.3.2",
      "provenance": [],
      "include_colab_link": true
    },
    "kernelspec": {
      "name": "python3",
      "display_name": "Python 3"
    }
  },
  "cells": [
    {
      "cell_type": "markdown",
      "metadata": {
        "id": "view-in-github",
        "colab_type": "text"
      },
      "source": [
        "<a href=\"https://colab.research.google.com/github/adatta38/PythonLearning/blob/master/PythonLearning2.ipynb\" target=\"_parent\"><img src=\"https://colab.research.google.com/assets/colab-badge.svg\" alt=\"Open In Colab\"/></a>"
      ]
    },
    {
      "cell_type": "markdown",
      "metadata": {
        "id": "8odz1jNyk-vN",
        "colab_type": "text"
      },
      "source": [
        "Working with indices:"
      ]
    },
    {
      "cell_type": "code",
      "metadata": {
        "id": "7poZYVzc2alx",
        "colab_type": "code",
        "outputId": "724ec3e4-890f-4eb3-ca36-496809460106",
        "colab": {
          "base_uri": "https://localhost:8080/",
          "height": 191
        }
      },
      "source": [
        "s=input(\"Enter some string:\")\n",
        "i=0\n",
        "for x in s:\n",
        "  print('''The character at +ve index :{} and at -ve index :{} is :\"{}\"'''.format(i,i-len(s),x))\n",
        "  i+=1"
      ],
      "execution_count": 0,
      "outputs": [
        {
          "output_type": "stream",
          "text": [
            "Enter some string:abhishek\n",
            "The character at +ve index :0 and at -ve index :-8 is :\"a\"\n",
            "The character at +ve index :1 and at -ve index :-7 is :\"b\"\n",
            "The character at +ve index :2 and at -ve index :-6 is :\"h\"\n",
            "The character at +ve index :3 and at -ve index :-5 is :\"i\"\n",
            "The character at +ve index :4 and at -ve index :-4 is :\"s\"\n",
            "The character at +ve index :5 and at -ve index :-3 is :\"h\"\n",
            "The character at +ve index :6 and at -ve index :-2 is :\"e\"\n",
            "The character at +ve index :7 and at -ve index :-1 is :\"k\"\n"
          ],
          "name": "stdout"
        }
      ]
    },
    {
      "cell_type": "markdown",
      "metadata": {
        "id": "S-RkrxUFlHLs",
        "colab_type": "text"
      },
      "source": [
        "Some more examples:"
      ]
    },
    {
      "cell_type": "code",
      "metadata": {
        "id": "QyiLq2-xlLEt",
        "colab_type": "code",
        "outputId": "875f7afa-d68c-4e09-e3d3-0735cf6a1326",
        "colab": {
          "base_uri": "https://localhost:8080/",
          "height": 240
        }
      },
      "source": [
        "s='0123456789'\n",
        "print(s)\n",
        "print(s[0:7:1])\n",
        "print(s[0:7:2])\n",
        "print(s[0:7])\n",
        "print(s[0:])\n",
        "print(s[:])\n",
        "print(s[::])\n",
        "print(s[::-1])\n",
        "print(s[:-1])\n",
        "print(s[:9])\n",
        "print(s[:-1:-1])\n",
        "print(s[2:8:1])\n",
        "print(s[2:8:-1])"
      ],
      "execution_count": 0,
      "outputs": [
        {
          "output_type": "stream",
          "text": [
            "0123456789\n",
            "0123456\n",
            "0246\n",
            "0123456\n",
            "0123456789\n",
            "0123456789\n",
            "0123456789\n",
            "9876543210\n",
            "012345678\n",
            "012345678\n",
            "\n",
            "234567\n",
            "\n"
          ],
          "name": "stdout"
        }
      ]
    },
    {
      "cell_type": "markdown",
      "metadata": {
        "id": "DchrKzDz6MLr",
        "colab_type": "text"
      },
      "source": [
        "Data in forward  directions and backward direction "
      ]
    },
    {
      "cell_type": "code",
      "metadata": {
        "id": "xxn-_CIK5_Cy",
        "colab_type": "code",
        "colab": {
          "base_uri": "https://localhost:8080/",
          "height": 120
        },
        "outputId": "f490f92f-b202-4a6e-a2ef-177cfe0ca912"
      },
      "source": [
        "sent=input(print(\"Enter any string: \"))\n",
        "i=0\n",
        "print(\"Data in forward direction is: \")\n",
        "while i<len(sent):\n",
        "  print(sent[i], end='')\n",
        "  i+=1\n",
        "print()\n",
        "print(\"Data in reverse direction is: \")\n",
        "while i>0:\n",
        "  print(sent[i-1],end='')\n",
        "  i-=1\n",
        "    \n"
      ],
      "execution_count": 11,
      "outputs": [
        {
          "output_type": "stream",
          "text": [
            "Enter any string: \n",
            "NoneAbhishek\n",
            "Data in forward direction is: \n",
            "Abhishek\n",
            "Data in reverse direction is: \n",
            "kehsihbA"
          ],
          "name": "stdout"
        }
      ]
    },
    {
      "cell_type": "markdown",
      "metadata": {
        "id": "1pajjR0-AuJ5",
        "colab_type": "text"
      },
      "source": [
        "\n",
        "\n",
        "1.   WAP to remove duplicate characters.\n",
        "2.   WAP to remove each word of the sentence in reverse order.\n",
        "\n",
        "\n"
      ]
    },
    {
      "cell_type": "code",
      "metadata": {
        "id": "WOVdsnnBBR7G",
        "colab_type": "code",
        "colab": {}
      },
      "source": [
        ""
      ],
      "execution_count": 0,
      "outputs": []
    }
  ]
}