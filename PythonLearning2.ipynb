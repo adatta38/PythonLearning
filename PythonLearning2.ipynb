{
  "nbformat": 4,
  "nbformat_minor": 0,
  "metadata": {
    "colab": {
      "name": "PythonLearning2.ipynb",
      "version": "0.3.2",
      "provenance": [],
      "include_colab_link": true
    },
    "kernelspec": {
      "name": "python3",
      "display_name": "Python 3"
    }
  },
  "cells": [
    {
      "cell_type": "markdown",
      "metadata": {
        "id": "view-in-github",
        "colab_type": "text"
      },
      "source": [
        "<a href=\"https://colab.research.google.com/github/adatta38/PythonLearning/blob/master/PythonLearning2.ipynb\" target=\"_parent\"><img src=\"https://colab.research.google.com/assets/colab-badge.svg\" alt=\"Open In Colab\"/></a>"
      ]
    },
    {
      "cell_type": "markdown",
      "metadata": {
        "id": "8odz1jNyk-vN",
        "colab_type": "text"
      },
      "source": [
        "Working with indices:"
      ]
    },
    {
      "cell_type": "code",
      "metadata": {
        "id": "7poZYVzc2alx",
        "colab_type": "code",
        "outputId": "6cbe2d94-735f-49e3-ec3b-806dcd7605b2",
        "colab": {
          "base_uri": "https://localhost:8080/",
          "height": 168
        }
      },
      "source": [
        "s=input(\"Enter some string:\")\n",
        "i=0\n",
        "for x in s:\n",
        "  print('''The character at +ve index :{} and at -ve index :{} is :\"{}\"'''.format(i,i-len(s),x))\n",
        "  i+=1"
      ],
      "execution_count": 0,
      "outputs": [
        {
          "output_type": "stream",
          "text": [
            "Enter some string:Abhishek\n",
            "The character at +ve index :0 and at -ve index :-8 is :\"A\"\n",
            "The character at +ve index :1 and at -ve index :-7 is :\"b\"\n",
            "The character at +ve index :2 and at -ve index :-6 is :\"h\"\n",
            "The character at +ve index :3 and at -ve index :-5 is :\"i\"\n",
            "The character at +ve index :4 and at -ve index :-4 is :\"s\"\n",
            "The character at +ve index :5 and at -ve index :-3 is :\"h\"\n",
            "The character at +ve index :6 and at -ve index :-2 is :\"e\"\n",
            "The character at +ve index :7 and at -ve index :-1 is :\"k\"\n"
          ],
          "name": "stdout"
        }
      ]
    },
    {
      "cell_type": "markdown",
      "metadata": {
        "id": "S-RkrxUFlHLs",
        "colab_type": "text"
      },
      "source": [
        "Some more examples:"
      ]
    },
    {
      "cell_type": "code",
      "metadata": {
        "id": "QyiLq2-xlLEt",
        "colab_type": "code",
        "colab": {
          "base_uri": "https://localhost:8080/",
          "height": 235
        },
        "outputId": "2ff843cc-e3c2-42c1-aba6-ba150f962f8c"
      },
      "source": [
        "s='0123456789'\n",
        "print(s)\n",
        "print(s[0:7:1])\n",
        "print(s[0:7:2])\n",
        "print(s[0:7])\n",
        "print(s[0:])\n",
        "print(s[:])\n",
        "print(s[::])\n",
        "print(s[::-1])\n",
        "print(s[:-1])\n",
        "print(s[:9])\n",
        "print(s[:-1:-1])\n",
        "print(s[2:8:1])\n",
        "print(s[2:8:-1])"
      ],
      "execution_count": 31,
      "outputs": [
        {
          "output_type": "stream",
          "text": [
            "0123456789\n",
            "0123456\n",
            "0246\n",
            "0123456\n",
            "0123456789\n",
            "0123456789\n",
            "0123456789\n",
            "9876543210\n",
            "012345678\n",
            "012345678\n",
            "\n",
            "234567\n",
            "\n"
          ],
          "name": "stdout"
        }
      ]
    }
  ]
}