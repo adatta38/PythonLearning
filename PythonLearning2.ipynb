{
  "nbformat": 4,
  "nbformat_minor": 0,
  "metadata": {
    "colab": {
      "name": "PythonLearning2.ipynb",
      "provenance": [],
      "include_colab_link": true
    },
    "kernelspec": {
      "name": "python3",
      "display_name": "Python 3"
    }
  },
  "cells": [
    {
      "cell_type": "markdown",
      "metadata": {
        "id": "view-in-github",
        "colab_type": "text"
      },
      "source": [
        "<a href=\"https://colab.research.google.com/github/adatta38/PythonLearning/blob/master/PythonLearning2.ipynb\" target=\"_parent\"><img src=\"https://colab.research.google.com/assets/colab-badge.svg\" alt=\"Open In Colab\"/></a>"
      ]
    },
    {
      "cell_type": "markdown",
      "metadata": {
        "id": "8odz1jNyk-vN",
        "colab_type": "text"
      },
      "source": [
        "Working with indices:"
      ]
    },
    {
      "cell_type": "code",
      "metadata": {
        "id": "7poZYVzc2alx",
        "colab_type": "code",
        "outputId": "724ec3e4-890f-4eb3-ca36-496809460106",
        "colab": {
          "base_uri": "https://localhost:8080/",
          "height": 191
        }
      },
      "source": [
        "s=input(\"Enter some string:\")\n",
        "i=0\n",
        "for x in s:\n",
        "  print('''The character at +ve index :{} and at -ve index :{} is :\"{}\"'''.format(i,i-len(s),x))\n",
        "  i+=1"
      ],
      "execution_count": 0,
      "outputs": [
        {
          "output_type": "stream",
          "text": [
            "Enter some string:abhishek\n",
            "The character at +ve index :0 and at -ve index :-8 is :\"a\"\n",
            "The character at +ve index :1 and at -ve index :-7 is :\"b\"\n",
            "The character at +ve index :2 and at -ve index :-6 is :\"h\"\n",
            "The character at +ve index :3 and at -ve index :-5 is :\"i\"\n",
            "The character at +ve index :4 and at -ve index :-4 is :\"s\"\n",
            "The character at +ve index :5 and at -ve index :-3 is :\"h\"\n",
            "The character at +ve index :6 and at -ve index :-2 is :\"e\"\n",
            "The character at +ve index :7 and at -ve index :-1 is :\"k\"\n"
          ],
          "name": "stdout"
        }
      ]
    },
    {
      "cell_type": "markdown",
      "metadata": {
        "id": "S-RkrxUFlHLs",
        "colab_type": "text"
      },
      "source": [
        "Some more examples:"
      ]
    },
    {
      "cell_type": "code",
      "metadata": {
        "id": "QyiLq2-xlLEt",
        "colab_type": "code",
        "outputId": "6981dcb4-606e-4baf-e211-80ac242af6e3",
        "colab": {
          "base_uri": "https://localhost:8080/",
          "height": 289
        }
      },
      "source": [
        "s='0123456789'\n",
        "print(s)\n",
        "print(\"The value of 's[0:7:1]' is => [{}]\".format(s[0:7:1]))\n",
        "print(s[0:7:2])\n",
        "print(s[0:7])\n",
        "print(s[0:])\n",
        "print(s[:])\n",
        "print(s[::])\n",
        "print(s[::-1])\n",
        "print(s[:-1])\n",
        "print(s[:9])\n",
        "print(s[:-1:-1])\n",
        "print(s[2:8:1])\n",
        "print(s[2:8:-1])\n",
        "print(s[-5:0:-9])\n",
        "print(s[2:-1:-1])\n",
        "print(s[2:-5:-1])"
      ],
      "execution_count": 7,
      "outputs": [
        {
          "output_type": "stream",
          "text": [
            "0123456789\n",
            "The value of 's[0:7:1]' is => [0123456]\n",
            "0246\n",
            "0123456\n",
            "0123456789\n",
            "0123456789\n",
            "0123456789\n",
            "9876543210\n",
            "012345678\n",
            "012345678\n",
            "\n",
            "234567\n",
            "\n",
            "5\n",
            "\n",
            "\n"
          ],
          "name": "stdout"
        }
      ]
    },
    {
      "cell_type": "markdown",
      "metadata": {
        "id": "DchrKzDz6MLr",
        "colab_type": "text"
      },
      "source": [
        "Data in forward  directions and backward direction "
      ]
    },
    {
      "cell_type": "code",
      "metadata": {
        "id": "xxn-_CIK5_Cy",
        "colab_type": "code",
        "outputId": "9ff65ac1-983a-46b8-a675-6f9d4180ecdf",
        "colab": {
          "base_uri": "https://localhost:8080/",
          "height": 101
        }
      },
      "source": [
        "sent=input(print(\"Enter any string: \", end=''))\n",
        "i=0\n",
        "print(\"Data in forward direction is: \")\n",
        "while i<len(sent):\n",
        "  print(sent[i], end='')\n",
        "  i+=1\n",
        "print()\n",
        "print(\"Data in reverse direction is: \")\n",
        "while i>0:\n",
        "  print(sent[i-1],end='')\n",
        "  i-=1\n",
        "    \n"
      ],
      "execution_count": 0,
      "outputs": [
        {
          "output_type": "stream",
          "text": [
            "Enter any string: NoneAbhishek\n",
            "Data in forward direction is: \n",
            "Abhishek\n",
            "Data in reverse direction is: \n",
            "kehsihbA"
          ],
          "name": "stdout"
        }
      ]
    },
    {
      "cell_type": "markdown",
      "metadata": {
        "id": "1pajjR0-AuJ5",
        "colab_type": "text"
      },
      "source": [
        "\n",
        "\n",
        "1.   WAP to remove duplicate characters.\n",
        "2.   WAP to remove each word of the sentence in reverse order.\n",
        "\n",
        "\n"
      ]
    },
    {
      "cell_type": "code",
      "metadata": {
        "id": "WOVdsnnBBR7G",
        "colab_type": "code",
        "outputId": "1aa31cdc-7f6d-44ac-a151-10a21d62c4f3",
        "colab": {
          "base_uri": "https://localhost:8080/",
          "height": 246
        }
      },
      "source": [
        "text=input(print(\"Enter any text: \", end=''))\n",
        "final=[]\n",
        "i=1\n",
        "j=0\n",
        "final.append(text[j])\n",
        "for i in range(1,len(text)):\n",
        "  for j in range(0,i):\n",
        "    if (final[i] == text[j]):\n",
        "      continue\n",
        "    else:\n",
        "      final[i]=text[j]\n",
        "#  for j in range(0,i):\n",
        "#    print(\"i = \",i)\n",
        "#    print(\"j = \",j)\n",
        "#    print(\"final[{}] = {}\".format(i,final[i]))\n",
        "#    print(\"text[{}] = {}\".format(j,text[j]))\n",
        "    \n",
        "\n",
        "print(final)\n"
      ],
      "execution_count": 0,
      "outputs": [
        {
          "output_type": "stream",
          "text": [
            "Enter any text: NoneAbhishek\n"
          ],
          "name": "stdout"
        },
        {
          "output_type": "error",
          "ename": "IndexError",
          "evalue": "ignored",
          "traceback": [
            "\u001b[0;31m---------------------------------------------------------------------------\u001b[0m",
            "\u001b[0;31mIndexError\u001b[0m                                Traceback (most recent call last)",
            "\u001b[0;32m<ipython-input-16-2dc16ba6721c>\u001b[0m in \u001b[0;36m<module>\u001b[0;34m()\u001b[0m\n\u001b[1;32m      6\u001b[0m \u001b[0;32mfor\u001b[0m \u001b[0mi\u001b[0m \u001b[0;32min\u001b[0m \u001b[0mrange\u001b[0m\u001b[0;34m(\u001b[0m\u001b[0;36m1\u001b[0m\u001b[0;34m,\u001b[0m\u001b[0mlen\u001b[0m\u001b[0;34m(\u001b[0m\u001b[0mtext\u001b[0m\u001b[0;34m)\u001b[0m\u001b[0;34m)\u001b[0m\u001b[0;34m:\u001b[0m\u001b[0;34m\u001b[0m\u001b[0;34m\u001b[0m\u001b[0m\n\u001b[1;32m      7\u001b[0m   \u001b[0;32mfor\u001b[0m \u001b[0mj\u001b[0m \u001b[0;32min\u001b[0m \u001b[0mrange\u001b[0m\u001b[0;34m(\u001b[0m\u001b[0;36m0\u001b[0m\u001b[0;34m,\u001b[0m\u001b[0mi\u001b[0m\u001b[0;34m)\u001b[0m\u001b[0;34m:\u001b[0m\u001b[0;34m\u001b[0m\u001b[0;34m\u001b[0m\u001b[0m\n\u001b[0;32m----> 8\u001b[0;31m     \u001b[0;32mif\u001b[0m \u001b[0;34m(\u001b[0m\u001b[0mfinal\u001b[0m\u001b[0;34m[\u001b[0m\u001b[0mi\u001b[0m\u001b[0;34m]\u001b[0m \u001b[0;34m==\u001b[0m \u001b[0mtext\u001b[0m\u001b[0;34m[\u001b[0m\u001b[0mj\u001b[0m\u001b[0;34m]\u001b[0m\u001b[0;34m)\u001b[0m\u001b[0;34m:\u001b[0m\u001b[0;34m\u001b[0m\u001b[0;34m\u001b[0m\u001b[0m\n\u001b[0m\u001b[1;32m      9\u001b[0m       \u001b[0;32mcontinue\u001b[0m\u001b[0;34m\u001b[0m\u001b[0;34m\u001b[0m\u001b[0m\n\u001b[1;32m     10\u001b[0m     \u001b[0;32melse\u001b[0m\u001b[0;34m:\u001b[0m\u001b[0;34m\u001b[0m\u001b[0;34m\u001b[0m\u001b[0m\n",
            "\u001b[0;31mIndexError\u001b[0m: list index out of range"
          ]
        }
      ]
    },
    {
      "cell_type": "code",
      "metadata": {
        "id": "9eL1YVn-OEQO",
        "colab_type": "code",
        "colab": {
          "base_uri": "https://localhost:8080/",
          "height": 272
        },
        "outputId": "26b5ea20-e9ef-4801-aba5-3482344676ce"
      },
      "source": [
        "print(\"Abhishek\"*5)\n",
        "print(\"Abhishek\"+' '+\"Datta\")\n",
        "print(len(\"Abhishek\"))\n",
        "s=input(\"Enter a string: \")\n",
        "lengthOfString=len(s)\n",
        "print(lengthOfString)\n",
        "i=0\n",
        "print('\\n')\n",
        "\n",
        "print(\"Data in Forward Direction: \")\n",
        "while(i<lengthOfString):\n",
        "  print(s[i],end='')\n",
        "  i+=1\n",
        "\n",
        "print('\\n')\n",
        "print(\"Value Of i: \",i)\n",
        "i=i-1\n",
        "print('\\n')\n",
        "\n",
        "print(\"Data in Reverse Direction: \")\n",
        "while(i>=0):\n",
        "  print(s[i],end='')\n",
        "  i-=1"
      ],
      "execution_count": 28,
      "outputs": [
        {
          "output_type": "stream",
          "text": [
            "AbhishekAbhishekAbhishekAbhishekAbhishek\n",
            "Abhishek Datta\n",
            "8\n",
            "Enter a string: AbhishekDatta\n",
            "13\n",
            "\n",
            "\n",
            "Data in Forward Direction: \n",
            "AbhishekDatta\n",
            "\n",
            "Value Of i:  13\n",
            "\n",
            "\n",
            "Data in Reverse Direction: \n",
            "attaDkehsihbA"
          ],
          "name": "stdout"
        }
      ]
    },
    {
      "cell_type": "code",
      "metadata": {
        "id": "nqruqPAjVBAO",
        "colab_type": "code",
        "colab": {
          "base_uri": "https://localhost:8080/",
          "height": 136
        },
        "outputId": "210ec695-019d-498c-a582-c316b628ceed"
      },
      "source": [
        "s=input(\"Enter main string: \")\n",
        "mainString=s.strip()\n",
        "print(\"Main String is: \",mainString)\n",
        "print('z' in mainString)\n",
        "print('s' in mainString)\n",
        "y=input(\"Enter Substring to search: \")\n",
        "subString=y.strip()\n",
        "print(\"Sub String is: \",subString)\n",
        "if(subString in s):\n",
        "  print(subString,\"is found in the main string\")\n",
        "else:\n",
        "  print(subString,\"is not found in main string\")"
      ],
      "execution_count": 41,
      "outputs": [
        {
          "output_type": "stream",
          "text": [
            "Enter main string:   Abhishek\n",
            "Main String is:  Abhishek\n",
            "False\n",
            "True\n",
            "Enter Substring to search:   bhi\n",
            "Sub String is:  bhi\n",
            "bhi is found in the main string\n"
          ],
          "name": "stdout"
        }
      ]
    }
  ]
}