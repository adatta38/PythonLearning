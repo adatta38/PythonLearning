{
  "nbformat": 4,
  "nbformat_minor": 0,
  "metadata": {
    "colab": {
      "name": "PythonLearning1.ipynb",
      "version": "0.3.2",
      "provenance": [],
      "collapsed_sections": [],
      "include_colab_link": true
    },
    "kernelspec": {
      "name": "python3",
      "display_name": "Python 3"
    }
  },
  "cells": [
    {
      "cell_type": "markdown",
      "metadata": {
        "id": "view-in-github",
        "colab_type": "text"
      },
      "source": [
        "<a href=\"https://colab.research.google.com/github/adatta38/PythonLearning/blob/master/PythonLearning1.ipynb\" target=\"_parent\"><img src=\"https://colab.research.google.com/assets/colab-badge.svg\" alt=\"Open In Colab\"/></a>"
      ]
    },
    {
      "cell_type": "code",
      "metadata": {
        "id": "BIKXIsLtZBmc",
        "colab_type": "code",
        "colab": {
          "base_uri": "https://localhost:8080/",
          "height": 51
        },
        "outputId": "ce002603-a98d-4a00-abee-b6da651db16d"
      },
      "source": [
        "age=int(input(\"Enter your Age: \"))\n",
        "age100=100-age\n",
        "year100=2019+age100\n",
        "print(\"You will turn hundred in the year: \", year100)"
      ],
      "execution_count": 1,
      "outputs": [
        {
          "output_type": "stream",
          "text": [
            "Enter your Age: 40\n",
            "You will turn hundred in the year:  2079\n"
          ],
          "name": "stdout"
        }
      ]
    },
    {
      "cell_type": "markdown",
      "metadata": {
        "id": "fVNWO0LBiWMg",
        "colab_type": "text"
      },
      "source": [
        "Fibonacci Series"
      ]
    },
    {
      "cell_type": "code",
      "metadata": {
        "id": "Yamsk8DSigKn",
        "colab_type": "code",
        "colab": {
          "base_uri": "https://localhost:8080/",
          "height": 240
        },
        "outputId": "d9917331-0682-4255-fac7-4b59bd492fdb"
      },
      "source": [
        "num=int(input(\"Enter the length of the series: \"))\n",
        "a=0\n",
        "b=1\n",
        "series=0\n",
        "print(a,'\\n',b)\n",
        "for x in range(num):\n",
        "  series=a+b\n",
        "  print(series)\n",
        "  a=b\n",
        "  b=series\n",
        "  "
      ],
      "execution_count": 21,
      "outputs": [
        {
          "output_type": "stream",
          "text": [
            "Enter the length of the series: 10\n",
            "0 \n",
            " 1\n",
            "1\n",
            "2\n",
            "3\n",
            "5\n",
            "8\n",
            "13\n",
            "21\n",
            "34\n",
            "55\n",
            "89\n"
          ],
          "name": "stdout"
        }
      ]
    },
    {
      "cell_type": "markdown",
      "metadata": {
        "id": "SdBr5de4rxMi",
        "colab_type": "text"
      },
      "source": [
        "Some Star Formations:"
      ]
    },
    {
      "cell_type": "code",
      "metadata": {
        "id": "6xXkIcAFr_ya",
        "colab_type": "code",
        "colab": {
          "base_uri": "https://localhost:8080/",
          "height": 120
        },
        "outputId": "9eeb26a4-fb66-4044-f9e6-b304bcd06a2f"
      },
      "source": [
        "level=int(input(\"Enter the depth of star formation: \"))\n",
        "for x in range(level):\n",
        "  for y in range(x):\n",
        "    print('*', end='')\n",
        "  print()  "
      ],
      "execution_count": 19,
      "outputs": [
        {
          "output_type": "stream",
          "text": [
            "Enter the depth of star formation: 5\n",
            "\n",
            "*\n",
            "**\n",
            "***\n",
            "****\n"
          ],
          "name": "stdout"
        }
      ]
    },
    {
      "cell_type": "code",
      "metadata": {
        "id": "z_NqSnn1twPs",
        "colab_type": "code",
        "colab": {
          "base_uri": "https://localhost:8080/",
          "height": 206
        },
        "outputId": "bf30c227-fc2c-400c-8ee6-2aa43487cde5"
      },
      "source": [
        "level=int(input(\"Enter the number of rows of star formation: \"))\n",
        "spaces=level+1\n",
        "for x in range(level+1):\n",
        "  for y in range(spaces,1,-1):\n",
        "    print(\" \", end='')\n",
        "  spaces-=1\n",
        "  for z in range(x):\n",
        "    print('*', end='')\n",
        "  print()         "
      ],
      "execution_count": 1,
      "outputs": [
        {
          "output_type": "stream",
          "text": [
            "Enter the number of rows of star formation: 10\n",
            "         \n",
            "        *\n",
            "       **\n",
            "      ***\n",
            "     ****\n",
            "    *****\n",
            "   ******\n",
            "  *******\n",
            " ********\n",
            "*********\n"
          ],
          "name": "stdout"
        }
      ]
    },
    {
      "cell_type": "code",
      "metadata": {
        "id": "Xc-5PFCaVoyI",
        "colab_type": "code",
        "colab": {
          "base_uri": "https://localhost:8080/",
          "height": 223
        },
        "outputId": "6484d7ab-8aea-47c0-97ac-b60f9622d1e2"
      },
      "source": [
        "#Pyramid\n",
        "\n",
        "level=int(input(\"Enter the number of rows of star formation: \"))\n",
        "spaces=level+1\n",
        "for x in range(level+1):\n",
        "  for y in range(spaces,1,-1):\n",
        "    print(\" \", end='')\n",
        "  spaces-=1\n",
        "  for z in range(2*x-1):\n",
        "    print('*', end='')\n",
        "  print()"
      ],
      "execution_count": 19,
      "outputs": [
        {
          "output_type": "stream",
          "text": [
            "Enter the number of rows of star formation: 10\n",
            "          \n",
            "         *\n",
            "        ***\n",
            "       *****\n",
            "      *******\n",
            "     *********\n",
            "    ***********\n",
            "   *************\n",
            "  ***************\n",
            " *****************\n",
            "*******************\n"
          ],
          "name": "stdout"
        }
      ]
    },
    {
      "cell_type": "code",
      "metadata": {
        "id": "Y25Bna-IaFEy",
        "colab_type": "code",
        "colab": {
          "base_uri": "https://localhost:8080/",
          "height": 377
        },
        "outputId": "c17c687c-b85e-4219-cd88-4714f0f50020"
      },
      "source": [
        "# Diamond\n",
        "\n",
        "level=int(input(\"Enter the number of rows of star formation: \"))\n",
        "spaces=level+1\n",
        "for x in range(level+1):\n",
        "  for y in range(spaces,1,-1):\n",
        "    print(\" \", end='')\n",
        "  spaces-=1\n",
        "  for z in range(2*x-1):\n",
        "    print('*', end='')\n",
        "  print()\n",
        "  \n",
        "for x in range(level-1,0,-1):\n",
        "  for y in range(spaces+1):\n",
        "    print(\" \", end='')\n",
        "  spaces+=1\n",
        "  for z in range(2*x-1):\n",
        "    print('*',end='')\n",
        "  print()"
      ],
      "execution_count": 28,
      "outputs": [
        {
          "output_type": "stream",
          "text": [
            "Enter the number of rows of star formation: 10\n",
            "          \n",
            "         *\n",
            "        ***\n",
            "       *****\n",
            "      *******\n",
            "     *********\n",
            "    ***********\n",
            "   *************\n",
            "  ***************\n",
            " *****************\n",
            "*******************\n",
            " *****************\n",
            "  ***************\n",
            "   *************\n",
            "    ***********\n",
            "     *********\n",
            "      *******\n",
            "       *****\n",
            "        ***\n",
            "         *\n"
          ],
          "name": "stdout"
        }
      ]
    }
  ]
}