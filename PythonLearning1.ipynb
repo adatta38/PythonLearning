{
  "nbformat": 4,
  "nbformat_minor": 0,
  "metadata": {
    "colab": {
      "name": "PythonLearning1.ipynb",
      "version": "0.3.2",
      "provenance": [],
      "collapsed_sections": [],
      "include_colab_link": true
    },
    "kernelspec": {
      "name": "python3",
      "display_name": "Python 3"
    }
  },
  "cells": [
    {
      "cell_type": "markdown",
      "metadata": {
        "id": "view-in-github",
        "colab_type": "text"
      },
      "source": [
        "<a href=\"https://colab.research.google.com/github/adatta38/PythonLearning/blob/master/PythonLearning1.ipynb\" target=\"_parent\"><img src=\"https://colab.research.google.com/assets/colab-badge.svg\" alt=\"Open In Colab\"/></a>"
      ]
    },
    {
      "cell_type": "code",
      "metadata": {
        "id": "BIKXIsLtZBmc",
        "colab_type": "code",
        "colab": {
          "base_uri": "https://localhost:8080/",
          "height": 50
        },
        "outputId": "ce002603-a98d-4a00-abee-b6da651db16d"
      },
      "source": [
        "age=int(input(\"Enter your Age: \"))\n",
        "age100=100-age\n",
        "year100=2019+age100\n",
        "print(\"You will turn hundred in the year: \", year100)"
      ],
      "execution_count": 1,
      "outputs": [
        {
          "output_type": "stream",
          "text": [
            "Enter your Age: 40\n",
            "You will turn hundred in the year:  2079\n"
          ],
          "name": "stdout"
        }
      ]
    },
    {
      "cell_type": "markdown",
      "metadata": {
        "id": "fVNWO0LBiWMg",
        "colab_type": "text"
      },
      "source": [
        "Fibonacci Series"
      ]
    },
    {
      "cell_type": "code",
      "metadata": {
        "id": "Yamsk8DSigKn",
        "colab_type": "code",
        "colab": {
          "base_uri": "https://localhost:8080/",
          "height": 235
        },
        "outputId": "f5fe2944-11b3-418d-e15a-b8677f227515"
      },
      "source": [
        "num=int(input(\"Enter the length of the series: \"))\n",
        "a=0\n",
        "b=1\n",
        "series=0\n",
        "# print(a,'\\n',b)\n",
        "print(a)\n",
        "print(b)\n",
        "for x in range(num):\n",
        "  series=a+b\n",
        "  print(series)\n",
        "  a=b\n",
        "  b=series\n",
        "  "
      ],
      "execution_count": 56,
      "outputs": [
        {
          "output_type": "stream",
          "text": [
            "Enter the length of the series: 10\n",
            "0\n",
            "1\n",
            "1\n",
            "2\n",
            "3\n",
            "5\n",
            "8\n",
            "13\n",
            "21\n",
            "34\n",
            "55\n",
            "89\n"
          ],
          "name": "stdout"
        }
      ]
    },
    {
      "cell_type": "markdown",
      "metadata": {
        "id": "SdBr5de4rxMi",
        "colab_type": "text"
      },
      "source": [
        "Some Star Formations:"
      ]
    },
    {
      "cell_type": "code",
      "metadata": {
        "id": "6xXkIcAFr_ya",
        "colab_type": "code",
        "colab": {
          "base_uri": "https://localhost:8080/",
          "height": 134
        },
        "outputId": "f916d274-c37d-4937-830e-3257b4e82b15"
      },
      "source": [
        "level=int(input(\"Enter the depth of star formation: \"))\n",
        "for x in range(level+1):\n",
        "  for y in range(x):\n",
        "    print('*', end='')\n",
        "  print()  "
      ],
      "execution_count": 29,
      "outputs": [
        {
          "output_type": "stream",
          "text": [
            "Enter the depth of star formation: 5\n",
            "\n",
            "*\n",
            "**\n",
            "***\n",
            "****\n",
            "*****\n"
          ],
          "name": "stdout"
        }
      ]
    },
    {
      "cell_type": "code",
      "metadata": {
        "id": "b7sVPfxv8nCI",
        "colab_type": "code",
        "colab": {
          "base_uri": "https://localhost:8080/",
          "height": 134
        },
        "outputId": "75929a4e-9504-4c77-e1ed-cde0c51f74c1"
      },
      "source": [
        "rows=int(input(\"Enter the number of rows: \"))\n",
        "for x in range(rows+1):\n",
        "  print('*'*x)\n",
        "  \n",
        "  "
      ],
      "execution_count": 30,
      "outputs": [
        {
          "output_type": "stream",
          "text": [
            "Enter the number of rows: 5\n",
            "\n",
            "*\n",
            "**\n",
            "***\n",
            "****\n",
            "*****\n"
          ],
          "name": "stdout"
        }
      ]
    },
    {
      "cell_type": "code",
      "metadata": {
        "id": "z_NqSnn1twPs",
        "colab_type": "code",
        "colab": {
          "base_uri": "https://localhost:8080/",
          "height": 202
        },
        "outputId": "bf30c227-fc2c-400c-8ee6-2aa43487cde5"
      },
      "source": [
        "level=int(input(\"Enter the number of rows of star formation: \"))\n",
        "spaces=level+1\n",
        "for x in range(level+1):\n",
        "  for y in range(spaces,1,-1):\n",
        "    print(\" \", end='')\n",
        "  spaces-=1\n",
        "  for z in range(x):\n",
        "    print('*', end='')\n",
        "  print()         "
      ],
      "execution_count": 1,
      "outputs": [
        {
          "output_type": "stream",
          "text": [
            "Enter the number of rows of star formation: 10\n",
            "         \n",
            "        *\n",
            "       **\n",
            "      ***\n",
            "     ****\n",
            "    *****\n",
            "   ******\n",
            "  *******\n",
            " ********\n",
            "*********\n"
          ],
          "name": "stdout"
        }
      ]
    },
    {
      "cell_type": "code",
      "metadata": {
        "id": "NrWQ8beX9CvT",
        "colab_type": "code",
        "colab": {
          "base_uri": "https://localhost:8080/",
          "height": 134
        },
        "outputId": "2ab9b64d-a3d6-4f95-f08e-413f7dd051e4"
      },
      "source": [
        "rows=int(input(\"Enter the number of rows of star formation: \"))\n",
        "spaces=rows+1\n",
        "for x in range(rows+1):\n",
        "  print(' '*spaces, end='')\n",
        "  print('*'*x)\n",
        "  spaces-=1"
      ],
      "execution_count": 39,
      "outputs": [
        {
          "output_type": "stream",
          "text": [
            "Enter the number of rows of star formation: 5\n",
            "      \n",
            "     *\n",
            "    **\n",
            "   ***\n",
            "  ****\n",
            " *****\n"
          ],
          "name": "stdout"
        }
      ]
    },
    {
      "cell_type": "code",
      "metadata": {
        "id": "Xc-5PFCaVoyI",
        "colab_type": "code",
        "colab": {
          "base_uri": "https://localhost:8080/",
          "height": 218
        },
        "outputId": "6484d7ab-8aea-47c0-97ac-b60f9622d1e2"
      },
      "source": [
        "#Pyramid\n",
        "\n",
        "level=int(input(\"Enter the number of rows of Pyramid formation: \"))\n",
        "spaces=level+1\n",
        "for x in range(level+1):\n",
        "  for y in range(spaces,1,-1):\n",
        "    print(\" \", end='')\n",
        "  spaces-=1\n",
        "  for z in range(2*x-1):\n",
        "    print('*', end='')\n",
        "  print()"
      ],
      "execution_count": 19,
      "outputs": [
        {
          "output_type": "stream",
          "text": [
            "Enter the number of rows of star formation: 10\n",
            "          \n",
            "         *\n",
            "        ***\n",
            "       *****\n",
            "      *******\n",
            "     *********\n",
            "    ***********\n",
            "   *************\n",
            "  ***************\n",
            " *****************\n",
            "*******************\n"
          ],
          "name": "stdout"
        }
      ]
    },
    {
      "cell_type": "code",
      "metadata": {
        "id": "8lNu07e1Erga",
        "colab_type": "code",
        "colab": {
          "base_uri": "https://localhost:8080/",
          "height": 134
        },
        "outputId": "2d139e37-0dd6-417e-f1cf-e3ebe41dcb09"
      },
      "source": [
        "rows=int(input(\"Enter the number of rows of Pyramid Formation: \"))\n",
        "spaces=rows+1\n",
        "for x in range(rows+1):\n",
        "  print(' '*spaces, end='')\n",
        "  print('*'*(2*x-1))\n",
        "  spaces-=1"
      ],
      "execution_count": 41,
      "outputs": [
        {
          "output_type": "stream",
          "text": [
            "Enter the number of rows of Star Formation: 5\n",
            "      \n",
            "     *\n",
            "    ***\n",
            "   *****\n",
            "  *******\n",
            " *********\n"
          ],
          "name": "stdout"
        }
      ]
    },
    {
      "cell_type": "code",
      "metadata": {
        "id": "Y25Bna-IaFEy",
        "colab_type": "code",
        "colab": {
          "base_uri": "https://localhost:8080/",
          "height": 370
        },
        "outputId": "c17c687c-b85e-4219-cd88-4714f0f50020"
      },
      "source": [
        "# Diamond\n",
        "\n",
        "level=int(input(\"Enter the number of rows of Diamond Formation: \"))\n",
        "spaces=level+1\n",
        "for x in range(level+1):\n",
        "  for y in range(spaces,1,-1):\n",
        "    print(\" \", end='')\n",
        "  spaces-=1\n",
        "  for z in range(2*x-1):\n",
        "    print('*', end='')\n",
        "  print()\n",
        "  \n",
        "for x in range(level-1,0,-1):\n",
        "  for y in range(spaces+1):\n",
        "    print(\" \", end='')\n",
        "  spaces+=1\n",
        "  for z in range(2*x-1):\n",
        "    print('*',end='')\n",
        "  print()"
      ],
      "execution_count": 28,
      "outputs": [
        {
          "output_type": "stream",
          "text": [
            "Enter the number of rows of star formation: 10\n",
            "          \n",
            "         *\n",
            "        ***\n",
            "       *****\n",
            "      *******\n",
            "     *********\n",
            "    ***********\n",
            "   *************\n",
            "  ***************\n",
            " *****************\n",
            "*******************\n",
            " *****************\n",
            "  ***************\n",
            "   *************\n",
            "    ***********\n",
            "     *********\n",
            "      *******\n",
            "       *****\n",
            "        ***\n",
            "         *\n"
          ],
          "name": "stdout"
        }
      ]
    },
    {
      "cell_type": "code",
      "metadata": {
        "id": "ziQsQ5jXFSAy",
        "colab_type": "code",
        "colab": {
          "base_uri": "https://localhost:8080/",
          "height": 370
        },
        "outputId": "3deacb9b-8776-4796-e5e0-02a99d9d604e"
      },
      "source": [
        "rows=int(input(\"Enter the number of rows of the Diamond Formation\"))\n",
        "spaces=rows\n",
        "for x in range(rows+1):\n",
        "  print(' '*spaces, end='')\n",
        "  print('*'*(2*x-1))\n",
        "  spaces-=1\n",
        "  \n",
        "for y in range(rows-1,0,-1):\n",
        "  print(' '*(spaces+2), end='')\n",
        "  print('*'*(2*y-1))\n",
        "  spaces+=1"
      ],
      "execution_count": 55,
      "outputs": [
        {
          "output_type": "stream",
          "text": [
            "Enter the number of rows of the Diamond Formation10\n",
            "          \n",
            "         *\n",
            "        ***\n",
            "       *****\n",
            "      *******\n",
            "     *********\n",
            "    ***********\n",
            "   *************\n",
            "  ***************\n",
            " *****************\n",
            "*******************\n",
            " *****************\n",
            "  ***************\n",
            "   *************\n",
            "    ***********\n",
            "     *********\n",
            "      *******\n",
            "       *****\n",
            "        ***\n",
            "         *\n"
          ],
          "name": "stdout"
        }
      ]
    }
  ]
}