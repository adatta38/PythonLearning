{
  "nbformat": 4,
  "nbformat_minor": 0,
  "metadata": {
    "colab": {
      "name": "PythonLearning1.ipynb",
      "provenance": [],
      "collapsed_sections": [],
      "include_colab_link": true
    },
    "kernelspec": {
      "name": "python3",
      "display_name": "Python 3"
    }
  },
  "cells": [
    {
      "cell_type": "markdown",
      "metadata": {
        "id": "view-in-github",
        "colab_type": "text"
      },
      "source": [
        "<a href=\"https://colab.research.google.com/github/adatta38/PythonLearning/blob/master/PythonLearning1.ipynb\" target=\"_parent\"><img src=\"https://colab.research.google.com/assets/colab-badge.svg\" alt=\"Open In Colab\"/></a>"
      ]
    },
    {
      "cell_type": "code",
      "metadata": {
        "id": "BIKXIsLtZBmc",
        "colab_type": "code",
        "outputId": "ce002603-a98d-4a00-abee-b6da651db16d",
        "colab": {
          "base_uri": "https://localhost:8080/",
          "height": 50
        }
      },
      "source": [
        "age=int(input(\"Enter your Age: \"))\n",
        "age100=100-age\n",
        "year100=2019+age100\n",
        "print(\"You will turn hundred in the year: \", year100)"
      ],
      "execution_count": 0,
      "outputs": [
        {
          "output_type": "stream",
          "text": [
            "Enter your Age: 40\n",
            "You will turn hundred in the year:  2079\n"
          ],
          "name": "stdout"
        }
      ]
    },
    {
      "cell_type": "markdown",
      "metadata": {
        "id": "fVNWO0LBiWMg",
        "colab_type": "text"
      },
      "source": [
        "Fibonacci Series"
      ]
    },
    {
      "cell_type": "code",
      "metadata": {
        "id": "Yamsk8DSigKn",
        "colab_type": "code",
        "outputId": "f5fe2944-11b3-418d-e15a-b8677f227515",
        "colab": {
          "base_uri": "https://localhost:8080/",
          "height": 235
        }
      },
      "source": [
        "num=int(input(\"Enter the length of the series: \"))\n",
        "a=0\n",
        "b=1\n",
        "series=0\n",
        "# print(a,'\\n',b)\n",
        "print(a)\n",
        "print(b)\n",
        "for x in range(num):\n",
        "  series=a+b\n",
        "  print(series)\n",
        "  a=b\n",
        "  b=series\n",
        "  "
      ],
      "execution_count": 0,
      "outputs": [
        {
          "output_type": "stream",
          "text": [
            "Enter the length of the series: 10\n",
            "0\n",
            "1\n",
            "1\n",
            "2\n",
            "3\n",
            "5\n",
            "8\n",
            "13\n",
            "21\n",
            "34\n",
            "55\n",
            "89\n"
          ],
          "name": "stdout"
        }
      ]
    },
    {
      "cell_type": "markdown",
      "metadata": {
        "id": "SdBr5de4rxMi",
        "colab_type": "text"
      },
      "source": [
        "Some Star Formations:"
      ]
    },
    {
      "cell_type": "code",
      "metadata": {
        "id": "6xXkIcAFr_ya",
        "colab_type": "code",
        "outputId": "f916d274-c37d-4937-830e-3257b4e82b15",
        "colab": {
          "base_uri": "https://localhost:8080/",
          "height": 134
        }
      },
      "source": [
        "level=int(input(\"Enter the depth of star formation: \"))\n",
        "for x in range(level+1):\n",
        "  for y in range(x):\n",
        "    print('*', end='')\n",
        "  print()  "
      ],
      "execution_count": 0,
      "outputs": [
        {
          "output_type": "stream",
          "text": [
            "Enter the depth of star formation: 5\n",
            "\n",
            "*\n",
            "**\n",
            "***\n",
            "****\n",
            "*****\n"
          ],
          "name": "stdout"
        }
      ]
    },
    {
      "cell_type": "code",
      "metadata": {
        "id": "b7sVPfxv8nCI",
        "colab_type": "code",
        "outputId": "75929a4e-9504-4c77-e1ed-cde0c51f74c1",
        "colab": {
          "base_uri": "https://localhost:8080/",
          "height": 134
        }
      },
      "source": [
        "rows=int(input(\"Enter the number of rows: \"))\n",
        "for x in range(rows+1):\n",
        "  print('*'*x)\n",
        "  \n",
        "  "
      ],
      "execution_count": 0,
      "outputs": [
        {
          "output_type": "stream",
          "text": [
            "Enter the number of rows: 5\n",
            "\n",
            "*\n",
            "**\n",
            "***\n",
            "****\n",
            "*****\n"
          ],
          "name": "stdout"
        }
      ]
    },
    {
      "cell_type": "code",
      "metadata": {
        "id": "z_NqSnn1twPs",
        "colab_type": "code",
        "outputId": "bf30c227-fc2c-400c-8ee6-2aa43487cde5",
        "colab": {
          "base_uri": "https://localhost:8080/",
          "height": 202
        }
      },
      "source": [
        "level=int(input(\"Enter the number of rows of star formation: \"))\n",
        "spaces=level+1\n",
        "for x in range(level+1):\n",
        "  for y in range(spaces,1,-1):\n",
        "    print(\" \", end='')\n",
        "  spaces-=1\n",
        "  for z in range(x):\n",
        "    print('*', end='')\n",
        "  print()         "
      ],
      "execution_count": 0,
      "outputs": [
        {
          "output_type": "stream",
          "text": [
            "Enter the number of rows of star formation: 10\n",
            "         \n",
            "        *\n",
            "       **\n",
            "      ***\n",
            "     ****\n",
            "    *****\n",
            "   ******\n",
            "  *******\n",
            " ********\n",
            "*********\n"
          ],
          "name": "stdout"
        }
      ]
    },
    {
      "cell_type": "code",
      "metadata": {
        "id": "NrWQ8beX9CvT",
        "colab_type": "code",
        "outputId": "2ab9b64d-a3d6-4f95-f08e-413f7dd051e4",
        "colab": {
          "base_uri": "https://localhost:8080/",
          "height": 134
        }
      },
      "source": [
        "rows=int(input(\"Enter the number of rows of star formation: \"))\n",
        "spaces=rows+1\n",
        "for x in range(rows+1):\n",
        "  print(' '*spaces, end='')\n",
        "  print('*'*x)\n",
        "  spaces-=1"
      ],
      "execution_count": 0,
      "outputs": [
        {
          "output_type": "stream",
          "text": [
            "Enter the number of rows of star formation: 5\n",
            "      \n",
            "     *\n",
            "    **\n",
            "   ***\n",
            "  ****\n",
            " *****\n"
          ],
          "name": "stdout"
        }
      ]
    },
    {
      "cell_type": "code",
      "metadata": {
        "id": "Xc-5PFCaVoyI",
        "colab_type": "code",
        "outputId": "6484d7ab-8aea-47c0-97ac-b60f9622d1e2",
        "colab": {
          "base_uri": "https://localhost:8080/",
          "height": 218
        }
      },
      "source": [
        "#Pyramid\n",
        "\n",
        "level=int(input(\"Enter the number of rows of Pyramid formation: \"))\n",
        "spaces=level+1\n",
        "for x in range(level+1):\n",
        "  for y in range(spaces,1,-1):\n",
        "    print(\" \", end='')\n",
        "  spaces-=1\n",
        "  for z in range(2*x-1):\n",
        "    print('*', end='')\n",
        "  print()"
      ],
      "execution_count": 0,
      "outputs": [
        {
          "output_type": "stream",
          "text": [
            "Enter the number of rows of star formation: 10\n",
            "          \n",
            "         *\n",
            "        ***\n",
            "       *****\n",
            "      *******\n",
            "     *********\n",
            "    ***********\n",
            "   *************\n",
            "  ***************\n",
            " *****************\n",
            "*******************\n"
          ],
          "name": "stdout"
        }
      ]
    },
    {
      "cell_type": "code",
      "metadata": {
        "id": "8lNu07e1Erga",
        "colab_type": "code",
        "outputId": "2d139e37-0dd6-417e-f1cf-e3ebe41dcb09",
        "colab": {
          "base_uri": "https://localhost:8080/",
          "height": 134
        }
      },
      "source": [
        "rows=int(input(\"Enter the number of rows of Pyramid Formation: \"))\n",
        "spaces=rows+1\n",
        "for x in range(rows+1):\n",
        "  print(' '*spaces, end='')\n",
        "  print('*'*(2*x-1))\n",
        "  spaces-=1"
      ],
      "execution_count": 0,
      "outputs": [
        {
          "output_type": "stream",
          "text": [
            "Enter the number of rows of Star Formation: 5\n",
            "      \n",
            "     *\n",
            "    ***\n",
            "   *****\n",
            "  *******\n",
            " *********\n"
          ],
          "name": "stdout"
        }
      ]
    },
    {
      "cell_type": "code",
      "metadata": {
        "id": "Y25Bna-IaFEy",
        "colab_type": "code",
        "outputId": "c17c687c-b85e-4219-cd88-4714f0f50020",
        "colab": {
          "base_uri": "https://localhost:8080/",
          "height": 370
        }
      },
      "source": [
        "# Diamond\n",
        "\n",
        "level=int(input(\"Enter the number of rows of Diamond Formation: \"))\n",
        "spaces=level+1\n",
        "for x in range(level+1):\n",
        "  for y in range(spaces,1,-1):\n",
        "    print(\" \", end='')\n",
        "  spaces-=1\n",
        "  for z in range(2*x-1):\n",
        "    print('*', end='')\n",
        "  print()\n",
        "  \n",
        "for x in range(level-1,0,-1):\n",
        "  for y in range(spaces+1):\n",
        "    print(\" \", end='')\n",
        "  spaces+=1\n",
        "  for z in range(2*x-1):\n",
        "    print('*',end='')\n",
        "  print()"
      ],
      "execution_count": 0,
      "outputs": [
        {
          "output_type": "stream",
          "text": [
            "Enter the number of rows of star formation: 10\n",
            "          \n",
            "         *\n",
            "        ***\n",
            "       *****\n",
            "      *******\n",
            "     *********\n",
            "    ***********\n",
            "   *************\n",
            "  ***************\n",
            " *****************\n",
            "*******************\n",
            " *****************\n",
            "  ***************\n",
            "   *************\n",
            "    ***********\n",
            "     *********\n",
            "      *******\n",
            "       *****\n",
            "        ***\n",
            "         *\n"
          ],
          "name": "stdout"
        }
      ]
    },
    {
      "cell_type": "code",
      "metadata": {
        "id": "ziQsQ5jXFSAy",
        "colab_type": "code",
        "outputId": "3deacb9b-8776-4796-e5e0-02a99d9d604e",
        "colab": {
          "base_uri": "https://localhost:8080/",
          "height": 370
        }
      },
      "source": [
        "rows=int(input(\"Enter the number of rows of the Diamond Formation\"))\n",
        "spaces=rows\n",
        "for x in range(rows+1):\n",
        "  print(' '*spaces, end='')\n",
        "  print('*'*(2*x-1))\n",
        "  spaces-=1\n",
        "  \n",
        "for y in range(rows-1,0,-1):\n",
        "  print(' '*(spaces+2), end='')\n",
        "  print('*'*(2*y-1))\n",
        "  spaces+=1"
      ],
      "execution_count": 0,
      "outputs": [
        {
          "output_type": "stream",
          "text": [
            "Enter the number of rows of the Diamond Formation10\n",
            "          \n",
            "         *\n",
            "        ***\n",
            "       *****\n",
            "      *******\n",
            "     *********\n",
            "    ***********\n",
            "   *************\n",
            "  ***************\n",
            " *****************\n",
            "*******************\n",
            " *****************\n",
            "  ***************\n",
            "   *************\n",
            "    ***********\n",
            "     *********\n",
            "      *******\n",
            "       *****\n",
            "        ***\n",
            "         *\n"
          ],
          "name": "stdout"
        }
      ]
    },
    {
      "cell_type": "markdown",
      "metadata": {
        "id": "J60kn4RqKYWQ",
        "colab_type": "text"
      },
      "source": [
        "Placeholders:"
      ]
    },
    {
      "cell_type": "code",
      "metadata": {
        "id": "s86nxcLAKbGH",
        "colab_type": "code",
        "outputId": "98b9b290-72b5-4e21-c204-66910c6d0805",
        "colab": {
          "base_uri": "https://localhost:8080/",
          "height": 353
        }
      },
      "source": [
        "for i in range(4):\n",
        "  for j in range(5):\n",
        "    print(\"i={} and j={}\".format(i,j))  "
      ],
      "execution_count": 0,
      "outputs": [
        {
          "output_type": "stream",
          "text": [
            "i=0 and j=0\n",
            "i=0 and j=1\n",
            "i=0 and j=2\n",
            "i=0 and j=3\n",
            "i=0 and j=4\n",
            "i=1 and j=0\n",
            "i=1 and j=1\n",
            "i=1 and j=2\n",
            "i=1 and j=3\n",
            "i=1 and j=4\n",
            "i=2 and j=0\n",
            "i=2 and j=1\n",
            "i=2 and j=2\n",
            "i=2 and j=3\n",
            "i=2 and j=4\n",
            "i=3 and j=0\n",
            "i=3 and j=1\n",
            "i=3 and j=2\n",
            "i=3 and j=3\n",
            "i=3 and j=4\n"
          ],
          "name": "stdout"
        }
      ]
    },
    {
      "cell_type": "code",
      "metadata": {
        "id": "c7iYoDiwGR90",
        "colab_type": "code",
        "outputId": "56554b30-545a-47b8-ea6d-f4d50530474f",
        "colab": {
          "base_uri": "https://localhost:8080/",
          "height": 274
        }
      },
      "source": [
        "s = \"Abhishek Datta\"\n",
        "i=0\n",
        "for i in s:\n",
        "  print(i)"
      ],
      "execution_count": 0,
      "outputs": [
        {
          "output_type": "stream",
          "text": [
            "A\n",
            "b\n",
            "h\n",
            "i\n",
            "s\n",
            "h\n",
            "e\n",
            "k\n",
            " \n",
            "D\n",
            "a\n",
            "t\n",
            "t\n",
            "a\n"
          ],
          "name": "stdout"
        }
      ]
    },
    {
      "cell_type": "code",
      "metadata": {
        "id": "FLsjdEucGx9Q",
        "colab_type": "code",
        "outputId": "338213c2-cd5e-4c39-f9dc-909e2002e975",
        "colab": {
          "base_uri": "https://localhost:8080/",
          "height": 35
        }
      },
      "source": [
        "s = \"Samik Datta\"\n",
        "count=0\n",
        "for x in s:\n",
        "  count=count+1\n",
        "print(\"The number of characters\",count)\n",
        "\n"
      ],
      "execution_count": 0,
      "outputs": [
        {
          "output_type": "stream",
          "text": [
            "The number of characters 11\n"
          ],
          "name": "stdout"
        }
      ]
    },
    {
      "cell_type": "code",
      "metadata": {
        "id": "Ter1NmGzI4y0",
        "colab_type": "code",
        "outputId": "436d05a6-f5b4-4075-d3c1-33412facf37f",
        "colab": {
          "base_uri": "https://localhost:8080/",
          "height": 256
        }
      },
      "source": [
        "s = input(\"Enter a string: \")\n",
        "i=0\n",
        "for x in s:\n",
        "  print(\"The character present at index \", i, \"is\", x)\n",
        "  i+=1"
      ],
      "execution_count": 0,
      "outputs": [
        {
          "output_type": "stream",
          "text": [
            "Enter a string: Sonal Chhoda\n",
            "The character present at index  0 is S\n",
            "The character present at index  1 is o\n",
            "The character present at index  2 is n\n",
            "The character present at index  3 is a\n",
            "The character present at index  4 is l\n",
            "The character present at index  5 is  \n",
            "The character present at index  6 is C\n",
            "The character present at index  7 is h\n",
            "The character present at index  8 is h\n",
            "The character present at index  9 is o\n",
            "The character present at index  10 is d\n",
            "The character present at index  11 is a\n"
          ],
          "name": "stdout"
        }
      ]
    },
    {
      "cell_type": "code",
      "metadata": {
        "id": "ZWhAldbeKf8O",
        "colab_type": "code",
        "outputId": "42bb9f8d-6f27-4b43-9670-b67ed310f3f6",
        "colab": {
          "base_uri": "https://localhost:8080/",
          "height": 219
        }
      },
      "source": [
        "t = input(\"Enter the table you want to print: \")\n",
        "for i in range(1,11):\n",
        "  print(t, \"*\", i, \"=\", t*i)"
      ],
      "execution_count": 0,
      "outputs": [
        {
          "output_type": "stream",
          "text": [
            "Enter the table you want to print: 5\n",
            "5 * 1 = 5\n",
            "5 * 2 = 55\n",
            "5 * 3 = 555\n",
            "5 * 4 = 5555\n",
            "5 * 5 = 55555\n",
            "5 * 6 = 555555\n",
            "5 * 7 = 5555555\n",
            "5 * 8 = 55555555\n",
            "5 * 9 = 555555555\n",
            "5 * 10 = 5555555555\n"
          ],
          "name": "stdout"
        }
      ]
    },
    {
      "cell_type": "code",
      "metadata": {
        "id": "Ndvfba-aOCEv",
        "colab_type": "code",
        "outputId": "7b1d6c0c-9e29-45b9-f2b2-d17557ea2867",
        "colab": {
          "base_uri": "https://localhost:8080/",
          "height": 219
        }
      },
      "source": [
        "t = input(\"Enter the table you want to print: \")\n",
        "for i in range(1,11):\n",
        "  print(t*i)"
      ],
      "execution_count": 0,
      "outputs": [
        {
          "output_type": "stream",
          "text": [
            "Enter the table you want to print: 6\n",
            "6\n",
            "66\n",
            "666\n",
            "6666\n",
            "66666\n",
            "666666\n",
            "6666666\n",
            "66666666\n",
            "666666666\n",
            "6666666666\n"
          ],
          "name": "stdout"
        }
      ]
    },
    {
      "cell_type": "code",
      "metadata": {
        "id": "eJ99O-2YQRYU",
        "colab_type": "code",
        "outputId": "4abcdda9-732d-4f88-e9eb-f32fcd31b123",
        "colab": {
          "base_uri": "https://localhost:8080/",
          "height": 201
        }
      },
      "source": [
        "for i in range(1,11):\n",
        "  print(6, \"*\", i, \"=\", (6*i))"
      ],
      "execution_count": 0,
      "outputs": [
        {
          "output_type": "stream",
          "text": [
            "6 * 1 = 6\n",
            "6 * 2 = 12\n",
            "6 * 3 = 18\n",
            "6 * 4 = 24\n",
            "6 * 5 = 30\n",
            "6 * 6 = 36\n",
            "6 * 7 = 42\n",
            "6 * 8 = 48\n",
            "6 * 9 = 54\n",
            "6 * 10 = 60\n"
          ],
          "name": "stdout"
        }
      ]
    },
    {
      "cell_type": "code",
      "metadata": {
        "id": "SUHSu9vXRcFU",
        "colab_type": "code",
        "outputId": "0766984c-b80a-4be0-b319-8985191689da",
        "colab": {
          "base_uri": "https://localhost:8080/",
          "height": 219
        }
      },
      "source": [
        " t = int(input(\"Enter the table you want to print: \"))\n",
        "for i in range(1,11):\n",
        "  print(t, \"*\", i, \"=\", t*i)\n"
      ],
      "execution_count": 0,
      "outputs": [
        {
          "output_type": "stream",
          "text": [
            "Enter the table you want to print: 6\n",
            "6 * 1 = 6\n",
            "6 * 2 = 12\n",
            "6 * 3 = 18\n",
            "6 * 4 = 24\n",
            "6 * 5 = 30\n",
            "6 * 6 = 36\n",
            "6 * 7 = 42\n",
            "6 * 8 = 48\n",
            "6 * 9 = 54\n",
            "6 * 10 = 60\n"
          ],
          "name": "stdout"
        }
      ]
    },
    {
      "cell_type": "code",
      "metadata": {
        "id": "4URvyyW-a3py",
        "colab_type": "code",
        "outputId": "6cd5b4ac-b45f-4c29-f09d-0b6891ef73c5",
        "colab": {
          "base_uri": "https://localhost:8080/",
          "height": 146
        }
      },
      "source": [
        "t = int(input(\"Enter a range: \"))\n",
        "for i in range(t+1):\n",
        "  print('*' * (2*i-1)"
      ],
      "execution_count": 0,
      "outputs": [
        {
          "output_type": "stream",
          "text": [
            "Enter a range: 5\n",
            "\n",
            "*\n",
            "**\n",
            "***\n",
            "****\n",
            "*****\n"
          ],
          "name": "stdout"
        }
      ]
    },
    {
      "cell_type": "code",
      "metadata": {
        "id": "HEllTqgMXRx4",
        "colab_type": "code",
        "colab": {
          "base_uri": "https://localhost:8080/",
          "height": 269
        },
        "outputId": "8715d16e-2c8c-4e89-cf91-b25838ee3e8c"
      },
      "source": [
        "string = \"This is a test string !\"\n",
        "find = string.find('is')\n",
        "index = string.index('test')\n",
        "rfind = string.rfind('is')\n",
        "rindex = string.rindex('test')\n",
        "count = string.count('is')\n",
        "replace = string.replace('test', 'experimental')\n",
        "replace = replace.replace('a', 'an')\n",
        "\n",
        "print(find)\n",
        "print(index)\n",
        "print(rfind)\n",
        "print(rindex)\n",
        "print(count)\n",
        "print(string)\n",
        "print(replace)\n",
        "print(string.upper())\n",
        "print(string.lower())\n",
        "print(string.capitalize())\n",
        "print(string.title())\n",
        "print(string.swapcase())\n",
        "print(''.join(reversed(string)))\n",
        "l = string.split()\n",
        "print(l)\n",
        "for i in l:\n",
        "  print(''.join(reversed(i)), \" \", end='')"
      ],
      "execution_count": 20,
      "outputs": [
        {
          "output_type": "stream",
          "text": [
            "2\n",
            "10\n",
            "5\n",
            "10\n",
            "2\n",
            "This is a test string !\n",
            "This is an experimentanl string !\n",
            "THIS IS A TEST STRING !\n",
            "this is a test string !\n",
            "This is a test string !\n",
            "This Is A Test String !\n",
            "tHIS IS A TEST STRING !\n",
            "! gnirts tset a si sihT\n",
            "['This', 'is', 'a', 'test', 'string', '!']\n",
            "sihT  si  a  tset  gnirts  !  "
          ],
          "name": "stdout"
        }
      ]
    }
  ]
}